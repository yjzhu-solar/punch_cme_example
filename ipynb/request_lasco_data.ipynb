{
 "cells": [
  {
   "cell_type": "code",
   "execution_count": 3,
   "id": "c8b449cf",
   "metadata": {},
   "outputs": [],
   "source": [
    "import sunpy \n",
    "from sunpy.net import Fido, attrs as a\n",
    "from PyThea.utils import download_fits"
   ]
  },
  {
   "cell_type": "code",
   "execution_count": 5,
   "id": "8c4f4a0c",
   "metadata": {},
   "outputs": [
    {
     "name": "stdout",
     "output_type": "stream",
     "text": [
      "Results from 0 Providers:\n",
      "\n",
      "\n"
     ]
    }
   ],
   "source": [
    "time_range = a.Time(\"2025-09-13T02:20:00\", \"2025-09-13T02:30:00\")\n",
    "files = download_fits(time_range, \"LC3\")"
   ]
  },
  {
   "cell_type": "code",
   "execution_count": 7,
   "id": "765ca1ce",
   "metadata": {},
   "outputs": [
    {
     "data": {
      "text/html": [
       "Results from 0 Providers:</br></br>"
      ],
      "text/plain": [
       "<sunpy.net.fido_factory.UnifiedResponse object at 0x7f19f736ee10>\n",
       "Results from 0 Providers:\n"
      ]
     },
     "execution_count": 7,
     "metadata": {},
     "output_type": "execute_result"
    }
   ],
   "source": [
    "result\n"
   ]
  }
 ],
 "metadata": {
  "kernelspec": {
   "display_name": "pythea",
   "language": "python",
   "name": "python3"
  },
  "language_info": {
   "codemirror_mode": {
    "name": "ipython",
    "version": 3
   },
   "file_extension": ".py",
   "mimetype": "text/x-python",
   "name": "python",
   "nbconvert_exporter": "python",
   "pygments_lexer": "ipython3",
   "version": "3.13.0"
  }
 },
 "nbformat": 4,
 "nbformat_minor": 5
}
